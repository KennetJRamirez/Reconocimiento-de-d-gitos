{
  "nbformat": 4,
  "nbformat_minor": 0,
  "metadata": {
    "kernelspec": {
      "display_name": "Python 3",
      "language": "python",
      "name": "python3"
    },
    "language_info": {
      "codemirror_mode": {
        "name": "ipython",
        "version": 3
      },
      "file_extension": ".py",
      "mimetype": "text/x-python",
      "name": "python",
      "nbconvert_exporter": "python",
      "pygments_lexer": "ipython3",
      "version": "3.7.10"
    },
    "colab": {
      "provenance": [],
      "include_colab_link": true
    }
  },
  "cells": [
    {
      "cell_type": "markdown",
      "metadata": {
        "id": "view-in-github",
        "colab_type": "text"
      },
      "source": [
        "<a href=\"https://colab.research.google.com/github/KennetJRamirez/Reconocimiento-de-d-gitos/blob/main/2_Reconocimiento_de_d%C3%ADgitos.ipynb\" target=\"_parent\"><img src=\"https://colab.research.google.com/assets/colab-badge.svg\" alt=\"Open In Colab\"/></a>"
      ]
    },
    {
      "cell_type": "markdown",
      "metadata": {
        "id": "K9FHxrmxnDel"
      },
      "source": [
        "<h1><font color=\"#113D68\" size=6>Deep Learning con Python y Keras</font></h1>\n",
        "\n",
        "<h1><font color=\"#113D68\" size=5>Parte 5. Redes Neuronales Convolucionales</font></h1>\n",
        "\n",
        "<h1><font color=\"#113D68\" size=4>2. Reconocimiento de dígitos</font></h1>\n",
        "\n",
        "<br><br>\n",
        "<div style=\"text-align: right\">\n",
        "<font color=\"#113D68\" size=3>Manuel Castillo Cara</font><br>\n",
        "\n",
        "</div>"
      ]
    },
    {
      "cell_type": "markdown",
      "metadata": {
        "id": "yyVOhqK8nDev"
      },
      "source": [
        "---\n",
        "\n",
        "<a id=\"indice\"></a>\n",
        "<h2><font color=\"#004D7F\" size=5>Índice</font></h2>\n",
        "\n",
        "* [0. Contexto](#section0)\n",
        "* [1. MNIST dataset](#section1)\n",
        "* [2. Cargar MNIST](#section2)\n",
        "* [3. Modelo de línea de base con MLP](#section3)\n",
        "* [4. CNN para MNIST](#section4)\n",
        "* [5. CNN más profunda para MNIST](#section5)"
      ]
    },
    {
      "cell_type": "markdown",
      "metadata": {
        "id": "7xUEES82nDew"
      },
      "source": [
        "---\n",
        "<a id=\"section0\"></a>\n",
        "# <font color=\"#004D7F\" size=6> 0. Contexto</font>"
      ]
    },
    {
      "cell_type": "markdown",
      "metadata": {
        "id": "QwjeagCWnDex"
      },
      "source": [
        "En este proyecto, descubrirá cómo desarrollar un modelo de Deep Learning en la tarea de reconocimiento de dígitos manuscritos del MNIST. Después de completar esta clase sabrá:\n",
        "* Cómo cargar MNIST y desarrollar un modelo de red neuronal.\n",
        "* Cómo implementar y evaluar una CNN de línea base para MNIST.\n",
        "* Cómo implementar un modelo de Deep Learning avanzado para MNIST."
      ]
    },
    {
      "cell_type": "code",
      "metadata": {
        "id": "QXTSz97onDex"
      },
      "source": [
        "import tensorflow as tf\n",
        "# Eliminar warning\n",
        "tf.compat.v1.logging.set_verbosity(tf.compat.v1.logging.ERROR)\n"
      ],
      "execution_count": 4,
      "outputs": []
    },
    {
      "cell_type": "markdown",
      "metadata": {
        "id": "GJztWiOjnDex"
      },
      "source": [
        "---\n",
        "<div style=\"text-align: right\"> <font size=5> <a href=\"#indice\"><i class=\"fa fa-arrow-circle-up\" aria-hidden=\"true\" style=\"color:#004D7F\"></i></a></font></div>\n",
        "\n",
        "---"
      ]
    },
    {
      "cell_type": "markdown",
      "metadata": {
        "id": "Mj1BtYifnDey"
      },
      "source": [
        "<a id=\"section1\"></a>\n",
        "# <font color=\"#004D7F\" size=6>1. MNIST dataset</font>"
      ]
    },
    {
      "cell_type": "markdown",
      "metadata": {
        "id": "CmgCoRlMnDey"
      },
      "source": [
        "MNIST toma imágenes de dígitos de una variedad de documentos escaneados, normalizados en tamaño y centrados.\n",
        "\n",
        "Cada imagen es está dada en blanco y negro con $28 × 28$ píxeles (784 píxeles en total). Se usan 60,000 imágenes para entrenar un modelo y 10,000 imágenes para validarlo.\n",
        "\n",
        "Es una tarea de reconocimiento de dígitos. Como tal, hay 10 dígitos (0 a 9) o 10 clases para predecir.\n",
        "\n",
        "En la página web de Rodrigo Benenson hay una lista de los resultados más avanzados y enlaces a los artículos relevantes sobre el MNIST y otros conjuntos de datos."
      ]
    },
    {
      "cell_type": "markdown",
      "metadata": {
        "id": "Jk7IGobWnDey"
      },
      "source": [
        "<div class=\"alert alert-block alert-info\">\n",
        "    \n",
        "<i class=\"fa fa-info-circle\" aria-hidden=\"true\"></i>\n",
        "Más información sobre el dataset [MNIST](http://yann.lecun.com/exdb/mnist/)"
      ]
    },
    {
      "cell_type": "markdown",
      "metadata": {
        "id": "WOOJKuKtnDez"
      },
      "source": [
        "<div class=\"alert alert-block alert-info\">\n",
        "    \n",
        "<i class=\"fa fa-info-circle\" aria-hidden=\"true\"></i>\n",
        "Información de los resultados sobre MNIST de [Rodrigo Benenson](http://rodrigob.github.io/are_we_there_yet/build/classification_datasets_results.html)"
      ]
    },
    {
      "cell_type": "markdown",
      "metadata": {
        "id": "dBRF--h3nDez"
      },
      "source": [
        "---\n",
        "<div style=\"text-align: right\"> <font size=5> <a href=\"#indice\"><i class=\"fa fa-arrow-circle-up\" aria-hidden=\"true\" style=\"color:#004D7F\"></i></a></font></div>\n",
        "\n",
        "---"
      ]
    },
    {
      "cell_type": "markdown",
      "metadata": {
        "id": "25YqTpeVnDez"
      },
      "source": [
        "<a id=\"section2\"></a>\n",
        "# <font color=\"#004D7F\" size=6>2. Cargar MNIST</font>"
      ]
    },
    {
      "cell_type": "markdown",
      "metadata": {
        "id": "v5kaqoWtnDez"
      },
      "source": [
        "El conjunto de datos se descarga automáticamente la primera vez que se llama a esta función y se almacena en su directorio de inicio en `~/.keras/datasets/mnist.pkl.gz` como un archivo de 15 megabytes.\n",
        "\n",
        "Primero escribiremos un pequeño script para descargar y visualizar las primeras 4 imágenes mediante la función `mnist.load data()`."
      ]
    },
    {
      "cell_type": "code",
      "metadata": {
        "colab": {
          "base_uri": "https://localhost:8080/",
          "height": 467
        },
        "id": "ZM4vwwl1nDe0",
        "outputId": "d0a15e89-da38-4fbb-f53a-0523bef9462a"
      },
      "source": [
        "# Plot ad hoc mnist instances\n",
        "from keras.datasets import mnist\n",
        "import matplotlib.pyplot as plt\n",
        "\n",
        "# load (downloaded if needed) the MNIST dataset\n",
        "(X_train, y_train), (X_test, y_test) = mnist.load_data()\n",
        "\n",
        "# plot 4 images as gray scale\n",
        "plt.subplot(221)\n",
        "plt.imshow(X_train[0], cmap=plt.get_cmap('gray'))\n",
        "plt.subplot(222)\n",
        "plt.imshow(X_train[1], cmap=plt.get_cmap('gray'))\n",
        "plt.subplot(223)\n",
        "plt.imshow(X_train[2], cmap=plt.get_cmap('gray'))\n",
        "plt.subplot(224)\n",
        "plt.imshow(X_train[3], cmap=plt.get_cmap('gray'))\n",
        "\n",
        "# show the plot\n",
        "plt.show()"
      ],
      "execution_count": 1,
      "outputs": [
        {
          "output_type": "stream",
          "name": "stdout",
          "text": [
            "Downloading data from https://storage.googleapis.com/tensorflow/tf-keras-datasets/mnist.npz\n",
            "\u001b[1m11490434/11490434\u001b[0m \u001b[32m━━━━━━━━━━━━━━━━━━━━\u001b[0m\u001b[37m\u001b[0m \u001b[1m0s\u001b[0m 0us/step\n"
          ]
        },
        {
          "output_type": "display_data",
          "data": {
            "text/plain": [
              "<Figure size 640x480 with 4 Axes>"
            ],
            "image/png": "[encoded data removed]"
          },
          "metadata": {}
        }
      ]
    },
    {
      "cell_type": "markdown",
      "metadata": {
        "id": "1TBa88B6nDe1"
      },
      "source": [
        "---\n",
        "<div style=\"text-align: right\"> <font size=5> <a href=\"#indice\"><i class=\"fa fa-arrow-circle-up\" aria-hidden=\"true\" style=\"color:#004D7F\"></i></a></font></div>\n",
        "\n",
        "---"
      ]
    },
    {
      "cell_type": "markdown",
      "metadata": {
        "id": "Ie0joAaKnDe1"
      },
      "source": [
        "<a id=\"section3\"></a>\n",
        "# <font color=\"#004D7F\" size=6>3. MLP de línea base</font>"
      ]
    },
    {
      "cell_type": "markdown",
      "metadata": {
        "id": "kKcntOOonDe1"
      },
      "source": [
        "Vamos a usar un MLP clásico como base para la comparación con modelos de redes neuronales convolucionales.\n",
        "\n",
        "Importamos las clases, funciones y el dataset MNIST."
      ]
    },
    {
      "cell_type": "code",
      "metadata": {
        "id": "6K39Eqp7nDe2"
      },
      "source": [
        "# Baseline MLP for MNIST dataset\n",
        "from tensorflow.keras.models import Sequential\n",
        "from tensorflow.keras.layers import Dense\n",
        "from tensorflow.keras.utils import to_categorical\n",
        "from tensorflow.keras.datasets import mnist\n",
        "# load data\n",
        "(X_train, y_train), (X_test, y_test) = mnist.load_data()\n",
        "\n"
      ],
      "execution_count": 5,
      "outputs": []
    },
    {
      "cell_type": "markdown",
      "metadata": {
        "id": "tzpxYVxKnDe2"
      },
      "source": [
        "Para un MLP clásico debemos reducir las imágenes a un vector de píxeles. En este caso, las imágenes de tamaño $28 × 28$ serán vectores de entrada de 784 píxeles.\n",
        "\n",
        "Realizamos esta transformación meidante la función `reshape()`.\n",
        "\n",
        "Los valores de los píxeles son números enteros, por lo que los convertimos a punto flotante para poder normalizarlos."
      ]
    },
    {
      "cell_type": "code",
      "metadata": {
        "id": "tO3bgVETnDe2"
      },
      "source": [
        "# flatten 28*28 images to a 784 vector for each image\n",
        "num_pixeles = X_train.shape[1] * X_train.shape[2]\n",
        "\n",
        "X_train = X_train.reshape((X_train.shape[0], num_pixeles)).astype('float32')\n",
        "X_test = X_test.reshape((X_test.shape[0], num_pixeles)).astype('float32')"
      ],
      "execution_count": 6,
      "outputs": []
    },
    {
      "cell_type": "code",
      "metadata": {
        "colab": {
          "base_uri": "https://localhost:8080/",
          "height": 0
        },
        "id": "X2VsW7rToulq",
        "outputId": "2029896c-5a0e-492a-cf3a-f48b079bb1a5"
      },
      "source": [
        "X_train.shape[0]"
      ],
      "execution_count": 7,
      "outputs": [
        {
          "output_type": "execute_result",
          "data": {
            "text/plain": [
              "60000"
            ]
          },
          "metadata": {},
          "execution_count": 7
        }
      ]
    },
    {
      "cell_type": "markdown",
      "metadata": {
        "id": "2Dt5Jyh5nDe2"
      },
      "source": [
        "Los valores de los píxeles están en una escala de grises entre 0 y 255. Podemos normalizar los valores de los píxeles en el rango 0 y 1 dividiendo cada valor por el máximo valor, i.e., 255."
      ]
    },
    {
      "cell_type": "code",
      "metadata": {
        "id": "DByKdm21nDe3"
      },
      "source": [
        "# normalize inputs from 0-255 to 0-1\n",
        "X_train = X_train / 255\n",
        "X_test = X_test / 255\n"
      ],
      "execution_count": 8,
      "outputs": []
    },
    {
      "cell_type": "markdown",
      "metadata": {
        "id": "dUH7i1WCnDe3"
      },
      "source": [
        "Finalmente, la variable de salida es un número entero de 0 a 9. Por tanto, usaremos One-Hot Encoding para transformar el vector de enteros de clase en una matriz binaria.\n",
        "\n",
        "Usaremos para ello la función de Keras `np_utils.to_categorical()`."
      ]
    },
    {
      "cell_type": "code",
      "metadata": {
        "id": "y-R_pVM3nDe3"
      },
      "source": [
        "from tensorflow.keras.utils import to_categorical\n",
        "\n",
        "# One hot encode outputs\n",
        "y_train = to_categorical(y_train, 10)\n",
        "y_test = to_categorical(y_test, 10)\n",
        "\n",
        "num_classes = y_test.shape[1]"
      ],
      "execution_count": 9,
      "outputs": []
    },
    {
      "cell_type": "code",
      "metadata": {
        "colab": {
          "base_uri": "https://localhost:8080/",
          "height": 0
        },
        "id": "qLJ0AsYTrAtN",
        "outputId": "c1a46631-86c9-4637-88f4-58122441a23e"
      },
      "source": [
        "y_test.shape[1]"
      ],
      "execution_count": 10,
      "outputs": [
        {
          "output_type": "execute_result",
          "data": {
            "text/plain": [
              "10"
            ]
          },
          "metadata": {},
          "execution_count": 10
        }
      ]
    },
    {
      "cell_type": "markdown",
      "metadata": {
        "id": "HrFAZu3IQFsD"
      },
      "source": []
    },
    {
      "cell_type": "markdown",
      "metadata": {
        "id": "eWFbBy2pnDe3"
      },
      "source": [
        "Vamos a definir nuestro modelo:\n",
        "1. El número de entradas será el tamaño máximo de pixeles (784)\n",
        "2. Tendrá una capa oculta con el mismo número de neuronas que entradas (784).\n",
        "3. Se utiliza una función de activación ReLU en la capa oculta.\n",
        "4. Se utiliza una función de activación Softmax en la capa de salida.\n",
        "5. La función de pérdida será `categorical_crossentropy`.\n",
        "6. Utilizaremos ADAM para aprender los pesos.\n",
        "<img src=\"https://drive.google.com/uc?id=1swPTlvecinN9uuyl5LO0fKIsxniOkcwq\" width=\"671\" height=\"177\" />"
      ]
    },
    {
      "cell_type": "code",
      "metadata": {
        "id": "VEI33JAXnDe4"
      },
      "source": [
        "# define baseline model\n",
        "def baseline_model():\n",
        "    # create model\n",
        "    model = Sequential()\n",
        "    model.add(Dense(num_pixeles, input_dim=num_pixeles, activation='relu'))\n",
        "    model.add(Dense(num_classes, activation='softmax'))\n",
        "    # Compile model\n",
        "    model.compile(loss='categorical_crossentropy', optimizer='adam', metrics=['accuracy'])\n",
        "\n",
        "    return model"
      ],
      "execution_count": 13,
      "outputs": []
    },
    {
      "cell_type": "markdown",
      "metadata": {
        "id": "bx1vazGpnDe4"
      },
      "source": [
        "Entrenamos y evaluamos el modelo.\n",
        "1. El modelo se ajusta a más de 10 épocas con actualizaciones cada 200 imágenes.\n",
        "2. Los datos de test se utilizan como conjunto de datos de validación.\n",
        "3. Se utiliza un valor `verbose` de 2.\n",
        "4. Evaluamos en test e imprimimos las métricas."
      ]
    },
    {
      "cell_type": "code",
      "metadata": {
        "colab": {
          "base_uri": "https://localhost:8080/",
          "height": 0
        },
        "id": "9P89UYPnnDe4",
        "outputId": "7198e664-234b-46f2-cb36-91190c6a8c47"
      },
      "source": [
        "# build the model\n",
        "model = baseline_model()\n",
        "\n",
        "# Fit the model\n",
        "# verbose=0 will show you nothing (silent)\n",
        "# verbose=1 will show you an animated progress bar like this:\n",
        "# verbose=2 will just mention the number of epoch like this: Epoch 1/10\n",
        "model.fit(X_train, y_train, validation_data=(X_test, y_test), epochs=10, batch_size=200, verbose=2)\n",
        "\n",
        "# Final evaluation of the model\n",
        "scores = model.evaluate(X_test, y_test, verbose=0)\n",
        "print(\"Error del modelo de la linea base: %.2f%%\" % (100-scores[1]*100))"
      ],
      "execution_count": 15,
      "outputs": [
        {
          "output_type": "stream",
          "name": "stdout",
          "text": [
            "Epoch 1/10\n",
            "300/300 - 7s - 25ms/step - accuracy: 0.9216 - loss: 0.2781 - val_accuracy: 0.9612 - val_loss: 0.1354\n",
            "Epoch 2/10\n",
            "300/300 - 5s - 17ms/step - accuracy: 0.9678 - loss: 0.1105 - val_accuracy: 0.9723 - val_loss: 0.0947\n",
            "Epoch 3/10\n",
            "300/300 - 7s - 22ms/step - accuracy: 0.9794 - loss: 0.0703 - val_accuracy: 0.9711 - val_loss: 0.0881\n",
            "Epoch 4/10\n",
            "300/300 - 5s - 17ms/step - accuracy: 0.9856 - loss: 0.0500 - val_accuracy: 0.9779 - val_loss: 0.0726\n",
            "Epoch 5/10\n",
            "300/300 - 6s - 20ms/step - accuracy: 0.9901 - loss: 0.0358 - val_accuracy: 0.9791 - val_loss: 0.0654\n",
            "Epoch 6/10\n",
            "300/300 - 10s - 32ms/step - accuracy: 0.9932 - loss: 0.0261 - val_accuracy: 0.9807 - val_loss: 0.0626\n",
            "Epoch 7/10\n",
            "300/300 - 6s - 21ms/step - accuracy: 0.9956 - loss: 0.0188 - val_accuracy: 0.9792 - val_loss: 0.0673\n",
            "Epoch 8/10\n",
            "300/300 - 5s - 18ms/step - accuracy: 0.9966 - loss: 0.0146 - val_accuracy: 0.9815 - val_loss: 0.0607\n",
            "Epoch 9/10\n",
            "300/300 - 6s - 21ms/step - accuracy: 0.9975 - loss: 0.0110 - val_accuracy: 0.9812 - val_loss: 0.0634\n",
            "Epoch 10/10\n",
            "300/300 - 9s - 31ms/step - accuracy: 0.9984 - loss: 0.0084 - val_accuracy: 0.9815 - val_loss: 0.0605\n",
            "Error del modelo de la linea base: 1.85%\n"
          ]
        }
      ]
    },
    {
      "cell_type": "markdown",
      "metadata": {
        "id": "H86uDB8YnDe5"
      },
      "source": [
        "---\n",
        "<div style=\"text-align: right\"> <font size=5> <a href=\"#indice\"><i class=\"fa fa-arrow-circle-up\" aria-hidden=\"true\" style=\"color:#004D7F\"></i></a></font></div>\n",
        "\n",
        "---"
      ]
    },
    {
      "cell_type": "markdown",
      "metadata": {
        "id": "ho7MyE08nDe5"
      },
      "source": [
        "<a id=\"section4\"></a>\n",
        "# <font color=\"#004D7F\" size=6>4. CNN para MNIST </font>"
      ]
    },
    {
      "cell_type": "markdown",
      "metadata": {
        "id": "bSdsGfWbnDe5"
      },
      "source": [
        "Ahora que hemos visto cómo cargar el conjunto de datos MNIST y entrenar un modelo simple de perceptrón multicapa en él, es hora de desarrollar una red neuronal convolucional más sofisticada o un modelo CNN.\n",
        "\n",
        "Crearemos una CNN simple para MNIST que demuestra cómo utilizar todos los aspectos de una implementación de CNN moderna, incluidas las capas convolucionales, las capas de agrupación y las capas de dropout.\n",
        "\n",
        "El primer paso es importar las clases y funciones necesarias."
      ]
    },
    {
      "cell_type": "code",
      "metadata": {
        "id": "uQRwF3kYnDe5"
      },
      "source": [
        "# Simple CNN for the MNIST Dataset ( Cambie a la version mas reciente con tensorflow por probelmas de compatibildiad )\n",
        "from tensorflow.keras.datasets import mnist\n",
        "from tensorflow.keras.models import Sequential\n",
        "from tensorflow.keras.layers import Dense, Dropout, Flatten, Conv2D, MaxPooling2D\n",
        "from tensorflow.keras.utils import to_categorical"
      ],
      "execution_count": 17,
      "outputs": []
    },
    {
      "cell_type": "markdown",
      "metadata": {
        "id": "3Mdqwqd1nDe6"
      },
      "source": [
        "En Keras, las capas utilizadas para convoluciones bidimensionales esperan valores de píxeles con las dimensiones `[muestras]-[ancho]-[alto]-[canales]`.\n",
        "\n",
        "En cuanto al canal en MNIST, ya que está dada en escala de grises, la dimensión de píxel se establece en 1."
      ]
    },
    {
      "cell_type": "code",
      "metadata": {
        "id": "jErc683MnDe6"
      },
      "source": [
        "# load data\n",
        "(X_train, y_train), (X_test, y_test) = mnist.load_data()\n",
        "\n",
        "# reshape to be [samples][width][height][channels]\n",
        "X_train = X_train.reshape((X_train.shape[0], 28, 28, 1)).astype('float')\n",
        "X_test = X_test.reshape((X_test.shape[0], 28, 28, 1)).astype('float')\n"
      ],
      "execution_count": 18,
      "outputs": []
    },
    {
      "cell_type": "code",
      "metadata": {
        "id": "zm8FXMvSu8tx"
      },
      "source": [],
      "execution_count": null,
      "outputs": []
    },
    {
      "cell_type": "markdown",
      "metadata": {
        "id": "THgWiB53nDe6"
      },
      "source": [
        "Normalizamos los valores de los píxeles en el rango 0 y 1 y realizar OHE en el target."
      ]
    },
    {
      "cell_type": "code",
      "metadata": {
        "id": "gJFJdOdVnDe6"
      },
      "source": [
        "# normalize inputs from 0-255 to 0-1\n",
        "X_train = X_train / 255\n",
        "X_test = X_test / 255\n",
        "\n",
        "# one hot encode outputs\n",
        "y_train = to_categorical(y_train)\n",
        "y_test = to_categorical(y_test)\n",
        "\n",
        "num_classes = y_test.shape[1]"
      ],
      "execution_count": 19,
      "outputs": []
    },
    {
      "cell_type": "markdown",
      "metadata": {
        "id": "8uLM_JoFnDe7"
      },
      "source": [
        "A continuación, definimos nuestro modelo de red neuronal:\n",
        "\n",
        "1. La primera capa oculta es una capa convolucional llamada `Conv2D`.\n",
        "    * Tiene 32 mapas de características, con un tamaño de $5 × 5$ y una función de activación ReLu.\n",
        "2. Capa Pooling  `MaxPooling2D `.\n",
        "    * Tamaño de pacht de $2 × 2$.\n",
        "3. Capa de regularización `Dropout`.\n",
        "4. Capa `Flatten` para conversión de la matriz 2D en un vector (1D).\n",
        "5. Capa `Dense` con 128 neuronas y la función de activación ReLU.\n",
        "6. Capa de salida con 10 neuronas para las 10 clases y una función de activación **Softmax**.\n",
        "7. La compilación con ADAM, pérdida logarítmica como función de coste y Accuracy como métrica.\n",
        "\n",
        "<img src=\"https://drive.google.com/uc?id=1GkKR_mdfuDpH-CxJ0V2vZJ3m63CxM0-Z\" width=\"1487\" height=\"178\" />"
      ]
    },
    {
      "cell_type": "code",
      "metadata": {
        "id": "rYqlikeXnDe7"
      },
      "source": [
        "# define a simple CNN model\n",
        "def baseline_model():\n",
        "    # create model\n",
        "    model = Sequential()\n",
        "    model.add(Conv2D(32, (5,5), input_shape=(28,28,1), activation='relu'))\n",
        "    model.add(MaxPooling2D())\n",
        "    model.add(Dropout(0.2))\n",
        "    model.add(Flatten())\n",
        "    model.add(Dense(128, activation='relu'))\n",
        "    model.add(Dense(num_classes, activation='softmax'))\n",
        "\n",
        "    # Compile model\n",
        "    model.compile(loss='categorical_crossentropy', optimizer='adam', metrics=['accuracy'])\n",
        "\n",
        "\n",
        "    return model"
      ],
      "execution_count": 20,
      "outputs": []
    },
    {
      "cell_type": "markdown",
      "metadata": {
        "id": "C8x0chjEnDe7"
      },
      "source": [
        "Entrenamos con 10 épocas a un tamaño de batch de 200.\n",
        "\n"
      ]
    },
    {
      "cell_type": "code",
      "metadata": {
        "colab": {
          "base_uri": "https://localhost:8080/",
          "height": 0
        },
        "id": "CQLwf75NnDe7",
        "outputId": "de34453f-fb34-4f7a-c4f0-9505d73e49de"
      },
      "source": [
        "# build the model\n",
        "model = baseline_model()\n",
        "\n",
        "# Fit the model\n",
        "model.fit(X_train, y_train, validation_data=(X_test, y_test), epochs=10, batch_size=200)\n",
        "\n",
        "# Final evaluation of the model\n",
        "scores = model.evaluate(X_test, y_test, verbose=0)\n",
        "print(\"Error del modelo de CNN linea base: %.2f%%\" % (100-scores[1]*100))"
      ],
      "execution_count": 21,
      "outputs": [
        {
          "output_type": "stream",
          "name": "stderr",
          "text": [
            "/usr/local/lib/python3.11/dist-packages/keras/src/layers/convolutional/base_conv.py:107: UserWarning: Do not pass an `input_shape`/`input_dim` argument to a layer. When using Sequential models, prefer using an `Input(shape)` object as the first layer in the model instead.\n",
            "  super().__init__(activity_regularizer=activity_regularizer, **kwargs)\n"
          ]
        },
        {
          "output_type": "stream",
          "name": "stdout",
          "text": [
            "Epoch 1/10\n",
            "\u001b[1m300/300\u001b[0m \u001b[32m━━━━━━━━━━━━━━━━━━━━\u001b[0m\u001b[37m\u001b[0m \u001b[1m35s\u001b[0m 110ms/step - accuracy: 0.8556 - loss: 0.5149 - val_accuracy: 0.9780 - val_loss: 0.0772\n",
            "Epoch 2/10\n",
            "\u001b[1m300/300\u001b[0m \u001b[32m━━━━━━━━━━━━━━━━━━━━\u001b[0m\u001b[37m\u001b[0m \u001b[1m31s\u001b[0m 105ms/step - accuracy: 0.9775 - loss: 0.0780 - val_accuracy: 0.9844 - val_loss: 0.0507\n",
            "Epoch 3/10\n",
            "\u001b[1m300/300\u001b[0m \u001b[32m━━━━━━━━━━━━━━━━━━━━\u001b[0m\u001b[37m\u001b[0m \u001b[1m33s\u001b[0m 109ms/step - accuracy: 0.9834 - loss: 0.0536 - val_accuracy: 0.9850 - val_loss: 0.0441\n",
            "Epoch 4/10\n",
            "\u001b[1m300/300\u001b[0m \u001b[32m━━━━━━━━━━━━━━━━━━━━\u001b[0m\u001b[37m\u001b[0m \u001b[1m31s\u001b[0m 105ms/step - accuracy: 0.9869 - loss: 0.0429 - val_accuracy: 0.9881 - val_loss: 0.0353\n",
            "Epoch 5/10\n",
            "\u001b[1m300/300\u001b[0m \u001b[32m━━━━━━━━━━━━━━━━━━━━\u001b[0m\u001b[37m\u001b[0m \u001b[1m41s\u001b[0m 104ms/step - accuracy: 0.9885 - loss: 0.0349 - val_accuracy: 0.9895 - val_loss: 0.0317\n",
            "Epoch 6/10\n",
            "\u001b[1m300/300\u001b[0m \u001b[32m━━━━━━━━━━━━━━━━━━━━\u001b[0m\u001b[37m\u001b[0m \u001b[1m32s\u001b[0m 108ms/step - accuracy: 0.9919 - loss: 0.0268 - val_accuracy: 0.9900 - val_loss: 0.0317\n",
            "Epoch 7/10\n",
            "\u001b[1m300/300\u001b[0m \u001b[32m━━━━━━━━━━━━━━━━━━━━\u001b[0m\u001b[37m\u001b[0m \u001b[1m41s\u001b[0m 108ms/step - accuracy: 0.9922 - loss: 0.0233 - val_accuracy: 0.9873 - val_loss: 0.0363\n",
            "Epoch 8/10\n",
            "\u001b[1m300/300\u001b[0m \u001b[32m━━━━━━━━━━━━━━━━━━━━\u001b[0m\u001b[37m\u001b[0m \u001b[1m40s\u001b[0m 103ms/step - accuracy: 0.9929 - loss: 0.0212 - val_accuracy: 0.9903 - val_loss: 0.0301\n",
            "Epoch 9/10\n",
            "\u001b[1m300/300\u001b[0m \u001b[32m━━━━━━━━━━━━━━━━━━━━\u001b[0m\u001b[37m\u001b[0m \u001b[1m31s\u001b[0m 103ms/step - accuracy: 0.9950 - loss: 0.0165 - val_accuracy: 0.9889 - val_loss: 0.0332\n",
            "Epoch 10/10\n",
            "\u001b[1m300/300\u001b[0m \u001b[32m━━━━━━━━━━━━━━━━━━━━\u001b[0m\u001b[37m\u001b[0m \u001b[1m42s\u001b[0m 107ms/step - accuracy: 0.9955 - loss: 0.0150 - val_accuracy: 0.9898 - val_loss: 0.0294\n",
            "Error del modelo de CNN linea base: 1.02%\n"
          ]
        }
      ]
    },
    {
      "cell_type": "markdown",
      "metadata": {
        "id": "hJ31DLgQnDe8"
      },
      "source": [
        "---\n",
        "<div style=\"text-align: right\"> <font size=5> <a href=\"#indice\"><i class=\"fa fa-arrow-circle-up\" aria-hidden=\"true\" style=\"color:#004D7F\"></i></a></font></div>\n",
        "\n",
        "---"
      ]
    },
    {
      "cell_type": "markdown",
      "metadata": {
        "id": "hyc9tg3knDe8"
      },
      "source": [
        "<a id=\"section5\"></a>\n",
        "# <font color=\"#004D7F\" size=6>5. CNN más profunda para MNIST </font>"
      ]
    },
    {
      "cell_type": "markdown",
      "metadata": {
        "id": "RHxVhqc3nDe8"
      },
      "source": [
        "Esta vez definimos una arquitectura con más capas de convolucionales, Max-pooling y capas completamente conectadas.\n",
        "\n",
        "1. Capa convolucional con 30 mapas de tamaño $5 × 5$.\n",
        "2. Capa de Pooling con patch de $2 × 2$.\n",
        "3. Capa convolucional con 15 mapas de tamaño $3 × 3$.\n",
        "4. Capa de Pooling con patch de $2 × 2$.\n",
        "5. Capa de Dropout del 20%.\n",
        "6. Capa Flatten.\n",
        "7. Capa completamente conectada con 128 neuronas y ReLu.\n",
        "8. Capa completamente conectada con 50 neuronas y ReLu\n",
        "9. Capa de salida cpm activación Softmax.\n",
        "10. La compilación con ADAM, pérdida logarítmica como función de coste y Accuracy como métrica.\n",
        "\n",
        "<img src=\"https://drive.google.com/uc?id=1j5bxc-9useczn5A1B4gbzKEnJHAklmku\" width=\"2202\" height=\"179\" />"
      ]
    },
    {
      "cell_type": "code",
      "metadata": {
        "id": "ztTgFky2nDe8",
        "outputId": "c47cb405-d85e-41e1-bb17-417564681b6b",
        "colab": {
          "base_uri": "https://localhost:8080/",
          "height": 0
        }
      },
      "source": [
        "from tensorflow.keras.models import Sequential\n",
        "from tensorflow.keras.layers import Conv2D, MaxPooling2D, Dropout, Flatten, Dense\n",
        "from tensorflow.keras.optimizers import Adam\n",
        "\n",
        "def larger_model():\n",
        "    # Crear modelo\n",
        "    model = Sequential()\n",
        "    model.add(Conv2D(30, (5, 5), input_shape=(28, 28, 1), activation='relu'))\n",
        "    model.add(MaxPooling2D(pool_size=(2, 2)))\n",
        "\n",
        "    model.add(Conv2D(15, (3, 3), activation='relu'))\n",
        "    model.add(MaxPooling2D(pool_size=(2, 2)))\n",
        "\n",
        "    model.add(Dropout(0.2))\n",
        "    model.add(Flatten())\n",
        "\n",
        "    model.add(Dense(128, activation='relu'))\n",
        "    model.add(Dense(50, activation='relu'))\n",
        "    model.add(Dense(num_classes, activation='softmax'))\n",
        "\n",
        "    # Compilar modelo\n",
        "    model.compile(loss='categorical_crossentropy', optimizer='adam', metrics=['accuracy'])\n",
        "\n",
        "    return model\n",
        "\n",
        "# Construir el modelo\n",
        "model = larger_model()\n",
        "\n",
        "# Entrenar el modelo\n",
        "model.fit(X_train, y_train, validation_data=(X_test, y_test), epochs=10, batch_size=200, verbose=2)\n",
        "\n",
        "# Evaluar el modelo\n",
        "scores = model.evaluate(X_test, y_test, verbose=0)\n",
        "print(\"Error del modelo CNN profunda: %.2f%%\" % (100 - scores[1] * 100))\n"
      ],
      "execution_count": 22,
      "outputs": [
        {
          "output_type": "stream",
          "name": "stdout",
          "text": [
            "Epoch 1/10\n",
            "300/300 - 39s - 131ms/step - accuracy: 0.8802 - loss: 0.3881 - val_accuracy: 0.9765 - val_loss: 0.0801\n",
            "Epoch 2/10\n",
            "300/300 - 37s - 122ms/step - accuracy: 0.9693 - loss: 0.0978 - val_accuracy: 0.9817 - val_loss: 0.0541\n",
            "Epoch 3/10\n",
            "300/300 - 35s - 117ms/step - accuracy: 0.9777 - loss: 0.0707 - val_accuracy: 0.9874 - val_loss: 0.0368\n",
            "Epoch 4/10\n",
            "300/300 - 41s - 136ms/step - accuracy: 0.9825 - loss: 0.0557 - val_accuracy: 0.9880 - val_loss: 0.0347\n",
            "Epoch 5/10\n",
            "300/300 - 41s - 135ms/step - accuracy: 0.9847 - loss: 0.0481 - val_accuracy: 0.9901 - val_loss: 0.0282\n",
            "Epoch 6/10\n",
            "300/300 - 39s - 129ms/step - accuracy: 0.9864 - loss: 0.0423 - val_accuracy: 0.9897 - val_loss: 0.0294\n",
            "Epoch 7/10\n",
            "300/300 - 42s - 141ms/step - accuracy: 0.9879 - loss: 0.0394 - val_accuracy: 0.9909 - val_loss: 0.0260\n",
            "Epoch 8/10\n",
            "300/300 - 42s - 141ms/step - accuracy: 0.9884 - loss: 0.0351 - val_accuracy: 0.9917 - val_loss: 0.0250\n",
            "Epoch 9/10\n",
            "300/300 - 40s - 132ms/step - accuracy: 0.9897 - loss: 0.0321 - val_accuracy: 0.9916 - val_loss: 0.0257\n",
            "Epoch 10/10\n",
            "300/300 - 40s - 135ms/step - accuracy: 0.9907 - loss: 0.0282 - val_accuracy: 0.9914 - val_loss: 0.0254\n",
            "Error del modelo CNN profunda: 0.86%\n"
          ]
        }
      ]
    },
    {
      "cell_type": "markdown",
      "metadata": {
        "id": "lk8eZ6eqnDe9"
      },
      "source": [
        "<div style=\"text-align: right\"> <font size=5> <a href=\"#indice\"><i class=\"fa fa-arrow-circle-up\" aria-hidden=\"true\" style=\"color:#004D7F\"></i></a></font></div>\n",
        "\n",
        "---\n",
        "\n",
        "<div style=\"text-align: right\"> <font size=6><i class=\"fa fa-coffee\" aria-hidden=\"true\" style=\"color:#004D7F\"></i> </font></div>"
      ]
    }
  ]
}